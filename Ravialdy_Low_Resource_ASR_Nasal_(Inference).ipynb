{
  "nbformat": 4,
  "nbformat_minor": 0,
  "metadata": {
    "colab": {
      "provenance": [],
      "gpuType": "T4"
    },
    "kernelspec": {
      "name": "python3",
      "display_name": "Python 3"
    },
    "language_info": {
      "name": "python"
    },
    "accelerator": "GPU",
    "widgets": {
      "application/vnd.jupyter.widget-state+json": {
        "7b93014100444d0899ed7ccec9426cf1": {
          "model_module": "@jupyter-widgets/controls",
          "model_name": "HBoxModel",
          "model_module_version": "1.5.0",
          "state": {
            "_dom_classes": [],
            "_model_module": "@jupyter-widgets/controls",
            "_model_module_version": "1.5.0",
            "_model_name": "HBoxModel",
            "_view_count": null,
            "_view_module": "@jupyter-widgets/controls",
            "_view_module_version": "1.5.0",
            "_view_name": "HBoxView",
            "box_style": "",
            "children": [
              "IPY_MODEL_9c78523ba3bc41748b511c2065fe7bc5",
              "IPY_MODEL_385768d955294f5489157bd123bbd385",
              "IPY_MODEL_9421fe2589b2489a8e496ca47f790455"
            ],
            "layout": "IPY_MODEL_5c3dcfe608534d9697ebc666d3508da3"
          }
        },
        "9c78523ba3bc41748b511c2065fe7bc5": {
          "model_module": "@jupyter-widgets/controls",
          "model_name": "HTMLModel",
          "model_module_version": "1.5.0",
          "state": {
            "_dom_classes": [],
            "_model_module": "@jupyter-widgets/controls",
            "_model_module_version": "1.5.0",
            "_model_name": "HTMLModel",
            "_view_count": null,
            "_view_module": "@jupyter-widgets/controls",
            "_view_module_version": "1.5.0",
            "_view_name": "HTMLView",
            "description": "",
            "description_tooltip": null,
            "layout": "IPY_MODEL_a1b0236287e344e0934826df708ed04c",
            "placeholder": "​",
            "style": "IPY_MODEL_915aba8f0e204b60ad8e55dd87115561",
            "value": "Map: 100%"
          }
        },
        "385768d955294f5489157bd123bbd385": {
          "model_module": "@jupyter-widgets/controls",
          "model_name": "FloatProgressModel",
          "model_module_version": "1.5.0",
          "state": {
            "_dom_classes": [],
            "_model_module": "@jupyter-widgets/controls",
            "_model_module_version": "1.5.0",
            "_model_name": "FloatProgressModel",
            "_view_count": null,
            "_view_module": "@jupyter-widgets/controls",
            "_view_module_version": "1.5.0",
            "_view_name": "ProgressView",
            "bar_style": "success",
            "description": "",
            "description_tooltip": null,
            "layout": "IPY_MODEL_a9597627cbee413fa65fa184ccf62dbc",
            "max": 767,
            "min": 0,
            "orientation": "horizontal",
            "style": "IPY_MODEL_45f68d6d36d4473d95a97d5dcd3114b5",
            "value": 767
          }
        },
        "9421fe2589b2489a8e496ca47f790455": {
          "model_module": "@jupyter-widgets/controls",
          "model_name": "HTMLModel",
          "model_module_version": "1.5.0",
          "state": {
            "_dom_classes": [],
            "_model_module": "@jupyter-widgets/controls",
            "_model_module_version": "1.5.0",
            "_model_name": "HTMLModel",
            "_view_count": null,
            "_view_module": "@jupyter-widgets/controls",
            "_view_module_version": "1.5.0",
            "_view_name": "HTMLView",
            "description": "",
            "description_tooltip": null,
            "layout": "IPY_MODEL_092fd3578703488a8bf4f4f21ee90c04",
            "placeholder": "​",
            "style": "IPY_MODEL_82e87f79977f4ee1b1598d779643d697",
            "value": " 767/767 [00:37&lt;00:00, 21.34 examples/s]"
          }
        },
        "5c3dcfe608534d9697ebc666d3508da3": {
          "model_module": "@jupyter-widgets/base",
          "model_name": "LayoutModel",
          "model_module_version": "1.2.0",
          "state": {
            "_model_module": "@jupyter-widgets/base",
            "_model_module_version": "1.2.0",
            "_model_name": "LayoutModel",
            "_view_count": null,
            "_view_module": "@jupyter-widgets/base",
            "_view_module_version": "1.2.0",
            "_view_name": "LayoutView",
            "align_content": null,
            "align_items": null,
            "align_self": null,
            "border": null,
            "bottom": null,
            "display": null,
            "flex": null,
            "flex_flow": null,
            "grid_area": null,
            "grid_auto_columns": null,
            "grid_auto_flow": null,
            "grid_auto_rows": null,
            "grid_column": null,
            "grid_gap": null,
            "grid_row": null,
            "grid_template_areas": null,
            "grid_template_columns": null,
            "grid_template_rows": null,
            "height": null,
            "justify_content": null,
            "justify_items": null,
            "left": null,
            "margin": null,
            "max_height": null,
            "max_width": null,
            "min_height": null,
            "min_width": null,
            "object_fit": null,
            "object_position": null,
            "order": null,
            "overflow": null,
            "overflow_x": null,
            "overflow_y": null,
            "padding": null,
            "right": null,
            "top": null,
            "visibility": null,
            "width": null
          }
        },
        "a1b0236287e344e0934826df708ed04c": {
          "model_module": "@jupyter-widgets/base",
          "model_name": "LayoutModel",
          "model_module_version": "1.2.0",
          "state": {
            "_model_module": "@jupyter-widgets/base",
            "_model_module_version": "1.2.0",
            "_model_name": "LayoutModel",
            "_view_count": null,
            "_view_module": "@jupyter-widgets/base",
            "_view_module_version": "1.2.0",
            "_view_name": "LayoutView",
            "align_content": null,
            "align_items": null,
            "align_self": null,
            "border": null,
            "bottom": null,
            "display": null,
            "flex": null,
            "flex_flow": null,
            "grid_area": null,
            "grid_auto_columns": null,
            "grid_auto_flow": null,
            "grid_auto_rows": null,
            "grid_column": null,
            "grid_gap": null,
            "grid_row": null,
            "grid_template_areas": null,
            "grid_template_columns": null,
            "grid_template_rows": null,
            "height": null,
            "justify_content": null,
            "justify_items": null,
            "left": null,
            "margin": null,
            "max_height": null,
            "max_width": null,
            "min_height": null,
            "min_width": null,
            "object_fit": null,
            "object_position": null,
            "order": null,
            "overflow": null,
            "overflow_x": null,
            "overflow_y": null,
            "padding": null,
            "right": null,
            "top": null,
            "visibility": null,
            "width": null
          }
        },
        "915aba8f0e204b60ad8e55dd87115561": {
          "model_module": "@jupyter-widgets/controls",
          "model_name": "DescriptionStyleModel",
          "model_module_version": "1.5.0",
          "state": {
            "_model_module": "@jupyter-widgets/controls",
            "_model_module_version": "1.5.0",
            "_model_name": "DescriptionStyleModel",
            "_view_count": null,
            "_view_module": "@jupyter-widgets/base",
            "_view_module_version": "1.2.0",
            "_view_name": "StyleView",
            "description_width": ""
          }
        },
        "a9597627cbee413fa65fa184ccf62dbc": {
          "model_module": "@jupyter-widgets/base",
          "model_name": "LayoutModel",
          "model_module_version": "1.2.0",
          "state": {
            "_model_module": "@jupyter-widgets/base",
            "_model_module_version": "1.2.0",
            "_model_name": "LayoutModel",
            "_view_count": null,
            "_view_module": "@jupyter-widgets/base",
            "_view_module_version": "1.2.0",
            "_view_name": "LayoutView",
            "align_content": null,
            "align_items": null,
            "align_self": null,
            "border": null,
            "bottom": null,
            "display": null,
            "flex": null,
            "flex_flow": null,
            "grid_area": null,
            "grid_auto_columns": null,
            "grid_auto_flow": null,
            "grid_auto_rows": null,
            "grid_column": null,
            "grid_gap": null,
            "grid_row": null,
            "grid_template_areas": null,
            "grid_template_columns": null,
            "grid_template_rows": null,
            "height": null,
            "justify_content": null,
            "justify_items": null,
            "left": null,
            "margin": null,
            "max_height": null,
            "max_width": null,
            "min_height": null,
            "min_width": null,
            "object_fit": null,
            "object_position": null,
            "order": null,
            "overflow": null,
            "overflow_x": null,
            "overflow_y": null,
            "padding": null,
            "right": null,
            "top": null,
            "visibility": null,
            "width": null
          }
        },
        "45f68d6d36d4473d95a97d5dcd3114b5": {
          "model_module": "@jupyter-widgets/controls",
          "model_name": "ProgressStyleModel",
          "model_module_version": "1.5.0",
          "state": {
            "_model_module": "@jupyter-widgets/controls",
            "_model_module_version": "1.5.0",
            "_model_name": "ProgressStyleModel",
            "_view_count": null,
            "_view_module": "@jupyter-widgets/base",
            "_view_module_version": "1.2.0",
            "_view_name": "StyleView",
            "bar_color": null,
            "description_width": ""
          }
        },
        "092fd3578703488a8bf4f4f21ee90c04": {
          "model_module": "@jupyter-widgets/base",
          "model_name": "LayoutModel",
          "model_module_version": "1.2.0",
          "state": {
            "_model_module": "@jupyter-widgets/base",
            "_model_module_version": "1.2.0",
            "_model_name": "LayoutModel",
            "_view_count": null,
            "_view_module": "@jupyter-widgets/base",
            "_view_module_version": "1.2.0",
            "_view_name": "LayoutView",
            "align_content": null,
            "align_items": null,
            "align_self": null,
            "border": null,
            "bottom": null,
            "display": null,
            "flex": null,
            "flex_flow": null,
            "grid_area": null,
            "grid_auto_columns": null,
            "grid_auto_flow": null,
            "grid_auto_rows": null,
            "grid_column": null,
            "grid_gap": null,
            "grid_row": null,
            "grid_template_areas": null,
            "grid_template_columns": null,
            "grid_template_rows": null,
            "height": null,
            "justify_content": null,
            "justify_items": null,
            "left": null,
            "margin": null,
            "max_height": null,
            "max_width": null,
            "min_height": null,
            "min_width": null,
            "object_fit": null,
            "object_position": null,
            "order": null,
            "overflow": null,
            "overflow_x": null,
            "overflow_y": null,
            "padding": null,
            "right": null,
            "top": null,
            "visibility": null,
            "width": null
          }
        },
        "82e87f79977f4ee1b1598d779643d697": {
          "model_module": "@jupyter-widgets/controls",
          "model_name": "DescriptionStyleModel",
          "model_module_version": "1.5.0",
          "state": {
            "_model_module": "@jupyter-widgets/controls",
            "_model_module_version": "1.5.0",
            "_model_name": "DescriptionStyleModel",
            "_view_count": null,
            "_view_module": "@jupyter-widgets/base",
            "_view_module_version": "1.2.0",
            "_view_name": "StyleView",
            "description_width": ""
          }
        },
        "bf111e2b2e2b45cd858bea47175b04ff": {
          "model_module": "@jupyter-widgets/controls",
          "model_name": "HBoxModel",
          "model_module_version": "1.5.0",
          "state": {
            "_dom_classes": [],
            "_model_module": "@jupyter-widgets/controls",
            "_model_module_version": "1.5.0",
            "_model_name": "HBoxModel",
            "_view_count": null,
            "_view_module": "@jupyter-widgets/controls",
            "_view_module_version": "1.5.0",
            "_view_name": "HBoxView",
            "box_style": "",
            "children": [
              "IPY_MODEL_8af60b973fa14e2b81f4865666dce3ed",
              "IPY_MODEL_8aa61d64aea64ce1850bb2debe4d2214",
              "IPY_MODEL_28fb26be79fe4af29a4332e9cc55f354"
            ],
            "layout": "IPY_MODEL_d74a86785e25478c8fd7f00561ef7e44"
          }
        },
        "8af60b973fa14e2b81f4865666dce3ed": {
          "model_module": "@jupyter-widgets/controls",
          "model_name": "HTMLModel",
          "model_module_version": "1.5.0",
          "state": {
            "_dom_classes": [],
            "_model_module": "@jupyter-widgets/controls",
            "_model_module_version": "1.5.0",
            "_model_name": "HTMLModel",
            "_view_count": null,
            "_view_module": "@jupyter-widgets/controls",
            "_view_module_version": "1.5.0",
            "_view_name": "HTMLView",
            "description": "",
            "description_tooltip": null,
            "layout": "IPY_MODEL_64f89b50d1d54f95a93b6d6d9678d03f",
            "placeholder": "​",
            "style": "IPY_MODEL_781e96199ad94a4d8ce239149473c825",
            "value": "Map: 100%"
          }
        },
        "8aa61d64aea64ce1850bb2debe4d2214": {
          "model_module": "@jupyter-widgets/controls",
          "model_name": "FloatProgressModel",
          "model_module_version": "1.5.0",
          "state": {
            "_dom_classes": [],
            "_model_module": "@jupyter-widgets/controls",
            "_model_module_version": "1.5.0",
            "_model_name": "FloatProgressModel",
            "_view_count": null,
            "_view_module": "@jupyter-widgets/controls",
            "_view_module_version": "1.5.0",
            "_view_name": "ProgressView",
            "bar_style": "success",
            "description": "",
            "description_tooltip": null,
            "layout": "IPY_MODEL_718b5d1288b9435282d50344189f77ab",
            "max": 767,
            "min": 0,
            "orientation": "horizontal",
            "style": "IPY_MODEL_884b585551354b19bb7b8e35f2cc83a7",
            "value": 767
          }
        },
        "28fb26be79fe4af29a4332e9cc55f354": {
          "model_module": "@jupyter-widgets/controls",
          "model_name": "HTMLModel",
          "model_module_version": "1.5.0",
          "state": {
            "_dom_classes": [],
            "_model_module": "@jupyter-widgets/controls",
            "_model_module_version": "1.5.0",
            "_model_name": "HTMLModel",
            "_view_count": null,
            "_view_module": "@jupyter-widgets/controls",
            "_view_module_version": "1.5.0",
            "_view_name": "HTMLView",
            "description": "",
            "description_tooltip": null,
            "layout": "IPY_MODEL_1db3340b5d6045f980e01754ddd7c767",
            "placeholder": "​",
            "style": "IPY_MODEL_9426040c920842809d7ff41c612eaf64",
            "value": " 767/767 [00:35&lt;00:00, 21.07 examples/s]"
          }
        },
        "d74a86785e25478c8fd7f00561ef7e44": {
          "model_module": "@jupyter-widgets/base",
          "model_name": "LayoutModel",
          "model_module_version": "1.2.0",
          "state": {
            "_model_module": "@jupyter-widgets/base",
            "_model_module_version": "1.2.0",
            "_model_name": "LayoutModel",
            "_view_count": null,
            "_view_module": "@jupyter-widgets/base",
            "_view_module_version": "1.2.0",
            "_view_name": "LayoutView",
            "align_content": null,
            "align_items": null,
            "align_self": null,
            "border": null,
            "bottom": null,
            "display": null,
            "flex": null,
            "flex_flow": null,
            "grid_area": null,
            "grid_auto_columns": null,
            "grid_auto_flow": null,
            "grid_auto_rows": null,
            "grid_column": null,
            "grid_gap": null,
            "grid_row": null,
            "grid_template_areas": null,
            "grid_template_columns": null,
            "grid_template_rows": null,
            "height": null,
            "justify_content": null,
            "justify_items": null,
            "left": null,
            "margin": null,
            "max_height": null,
            "max_width": null,
            "min_height": null,
            "min_width": null,
            "object_fit": null,
            "object_position": null,
            "order": null,
            "overflow": null,
            "overflow_x": null,
            "overflow_y": null,
            "padding": null,
            "right": null,
            "top": null,
            "visibility": null,
            "width": null
          }
        },
        "64f89b50d1d54f95a93b6d6d9678d03f": {
          "model_module": "@jupyter-widgets/base",
          "model_name": "LayoutModel",
          "model_module_version": "1.2.0",
          "state": {
            "_model_module": "@jupyter-widgets/base",
            "_model_module_version": "1.2.0",
            "_model_name": "LayoutModel",
            "_view_count": null,
            "_view_module": "@jupyter-widgets/base",
            "_view_module_version": "1.2.0",
            "_view_name": "LayoutView",
            "align_content": null,
            "align_items": null,
            "align_self": null,
            "border": null,
            "bottom": null,
            "display": null,
            "flex": null,
            "flex_flow": null,
            "grid_area": null,
            "grid_auto_columns": null,
            "grid_auto_flow": null,
            "grid_auto_rows": null,
            "grid_column": null,
            "grid_gap": null,
            "grid_row": null,
            "grid_template_areas": null,
            "grid_template_columns": null,
            "grid_template_rows": null,
            "height": null,
            "justify_content": null,
            "justify_items": null,
            "left": null,
            "margin": null,
            "max_height": null,
            "max_width": null,
            "min_height": null,
            "min_width": null,
            "object_fit": null,
            "object_position": null,
            "order": null,
            "overflow": null,
            "overflow_x": null,
            "overflow_y": null,
            "padding": null,
            "right": null,
            "top": null,
            "visibility": null,
            "width": null
          }
        },
        "781e96199ad94a4d8ce239149473c825": {
          "model_module": "@jupyter-widgets/controls",
          "model_name": "DescriptionStyleModel",
          "model_module_version": "1.5.0",
          "state": {
            "_model_module": "@jupyter-widgets/controls",
            "_model_module_version": "1.5.0",
            "_model_name": "DescriptionStyleModel",
            "_view_count": null,
            "_view_module": "@jupyter-widgets/base",
            "_view_module_version": "1.2.0",
            "_view_name": "StyleView",
            "description_width": ""
          }
        },
        "718b5d1288b9435282d50344189f77ab": {
          "model_module": "@jupyter-widgets/base",
          "model_name": "LayoutModel",
          "model_module_version": "1.2.0",
          "state": {
            "_model_module": "@jupyter-widgets/base",
            "_model_module_version": "1.2.0",
            "_model_name": "LayoutModel",
            "_view_count": null,
            "_view_module": "@jupyter-widgets/base",
            "_view_module_version": "1.2.0",
            "_view_name": "LayoutView",
            "align_content": null,
            "align_items": null,
            "align_self": null,
            "border": null,
            "bottom": null,
            "display": null,
            "flex": null,
            "flex_flow": null,
            "grid_area": null,
            "grid_auto_columns": null,
            "grid_auto_flow": null,
            "grid_auto_rows": null,
            "grid_column": null,
            "grid_gap": null,
            "grid_row": null,
            "grid_template_areas": null,
            "grid_template_columns": null,
            "grid_template_rows": null,
            "height": null,
            "justify_content": null,
            "justify_items": null,
            "left": null,
            "margin": null,
            "max_height": null,
            "max_width": null,
            "min_height": null,
            "min_width": null,
            "object_fit": null,
            "object_position": null,
            "order": null,
            "overflow": null,
            "overflow_x": null,
            "overflow_y": null,
            "padding": null,
            "right": null,
            "top": null,
            "visibility": null,
            "width": null
          }
        },
        "884b585551354b19bb7b8e35f2cc83a7": {
          "model_module": "@jupyter-widgets/controls",
          "model_name": "ProgressStyleModel",
          "model_module_version": "1.5.0",
          "state": {
            "_model_module": "@jupyter-widgets/controls",
            "_model_module_version": "1.5.0",
            "_model_name": "ProgressStyleModel",
            "_view_count": null,
            "_view_module": "@jupyter-widgets/base",
            "_view_module_version": "1.2.0",
            "_view_name": "StyleView",
            "bar_color": null,
            "description_width": ""
          }
        },
        "1db3340b5d6045f980e01754ddd7c767": {
          "model_module": "@jupyter-widgets/base",
          "model_name": "LayoutModel",
          "model_module_version": "1.2.0",
          "state": {
            "_model_module": "@jupyter-widgets/base",
            "_model_module_version": "1.2.0",
            "_model_name": "LayoutModel",
            "_view_count": null,
            "_view_module": "@jupyter-widgets/base",
            "_view_module_version": "1.2.0",
            "_view_name": "LayoutView",
            "align_content": null,
            "align_items": null,
            "align_self": null,
            "border": null,
            "bottom": null,
            "display": null,
            "flex": null,
            "flex_flow": null,
            "grid_area": null,
            "grid_auto_columns": null,
            "grid_auto_flow": null,
            "grid_auto_rows": null,
            "grid_column": null,
            "grid_gap": null,
            "grid_row": null,
            "grid_template_areas": null,
            "grid_template_columns": null,
            "grid_template_rows": null,
            "height": null,
            "justify_content": null,
            "justify_items": null,
            "left": null,
            "margin": null,
            "max_height": null,
            "max_width": null,
            "min_height": null,
            "min_width": null,
            "object_fit": null,
            "object_position": null,
            "order": null,
            "overflow": null,
            "overflow_x": null,
            "overflow_y": null,
            "padding": null,
            "right": null,
            "top": null,
            "visibility": null,
            "width": null
          }
        },
        "9426040c920842809d7ff41c612eaf64": {
          "model_module": "@jupyter-widgets/controls",
          "model_name": "DescriptionStyleModel",
          "model_module_version": "1.5.0",
          "state": {
            "_model_module": "@jupyter-widgets/controls",
            "_model_module_version": "1.5.0",
            "_model_name": "DescriptionStyleModel",
            "_view_count": null,
            "_view_module": "@jupyter-widgets/base",
            "_view_module_version": "1.2.0",
            "_view_name": "StyleView",
            "description_width": ""
          }
        }
      }
    }
  },
  "cells": [
    {
      "cell_type": "markdown",
      "source": [
        "## **Inference Code of Low-Resource ASR for Nasal Language [1]**\n",
        "\n",
        "submitted by Ravialdy Hidayat.\n",
        "\n",
        "Paper Reference: [1] Bartelds et al., \"Making More of Little Data: Improving Low-Resource Automatic Speech Recognition Using Data Augmentation\" in Proceedings of the 61st Annual Meeting of the Association for Computational Linguistics (ACL), July 2023"
      ],
      "metadata": {
        "id": "ax_e_Yfm8J1U"
      }
    },
    {
      "cell_type": "markdown",
      "source": [
        "### Brief Recap about Low-Resource Nasal language"
      ],
      "metadata": {
        "id": "bnIKT0Jrp9ek"
      }
    },
    {
      "cell_type": "markdown",
      "source": [
        "Nasal is still used by local people from several villages in Tanjung Betuah, Gedung Menung, and Tanjung Baru within Kaur Regency, Bengkulu Province, Sumatra, Indonesia [2].\n",
        "\n",
        "Paper Reference: [2] Smith et al., \"The Western Malayo-Polynesian Problem\" in Proceedings of the 31st Annual Meeting of the Southeast Asian Linguistics Society (SEALS 31), May 2022."
      ],
      "metadata": {
        "id": "9tunxWs5qhzq"
      }
    },
    {
      "cell_type": "markdown",
      "source": [
        "### Explanation of the Model"
      ],
      "metadata": {
        "id": "fBjdJuoqubCJ"
      }
    },
    {
      "cell_type": "markdown",
      "source": [
        "![image.png](data:image/png;base64,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)"
      ],
      "metadata": {
        "id": "4GIzknZUudsM"
      }
    },
    {
      "cell_type": "markdown",
      "source": [
        "As you can see from the figure above, the teacher model in [1] is initially trained from a very small subset of data that is manually annotated by human (24 minutes of spoken audio). After that, the teacher model will be used to generate pseudo-labels for the remaining unlabeled data. Then, it will be merged with the labeled one to get the total dataset to train student model.\n",
        "\n",
        "Note that as explained in [1], for both pre-training and fine-tuning process the authors of that paper use XLS-R model by [3].\n",
        "\n",
        "Paper reference : [3] Babu et al., \"XLS-R: Self-supervised Cross-lingual Speech Representation Learning at Scale.\", Conference of the International Speech Communication Association (Interspeech), 2022."
      ],
      "metadata": {
        "id": "OTY54xhO4FfQ"
      }
    },
    {
      "cell_type": "markdown",
      "source": [
        "### Install and import necessary libraries"
      ],
      "metadata": {
        "id": "Jf2O0wloAla-"
      }
    },
    {
      "cell_type": "code",
      "source": [
        "!pip install transformers torchaudio jiwer datasets\n",
        "from typing import Optional, Tuple, Dict, List\n",
        "import torchaudio\n",
        "import torch\n",
        "from transformers import Wav2Vec2ForCTC, Wav2Vec2Processor\n",
        "import soundfile as sf\n",
        "import jiwer\n",
        "import time"
      ],
      "metadata": {
        "colab": {
          "base_uri": "https://localhost:8080/"
        },
        "id": "gaFJSTPAIg2V",
        "outputId": "32e1157e-3cfe-4418-d705-5796822b153d"
      },
      "execution_count": null,
      "outputs": [
        {
          "output_type": "stream",
          "name": "stdout",
          "text": [
            "Requirement already satisfied: transformers in /usr/local/lib/python3.10/dist-packages (4.35.2)\n",
            "Requirement already satisfied: torchaudio in /usr/local/lib/python3.10/dist-packages (2.1.0+cu121)\n",
            "Requirement already satisfied: jiwer in /usr/local/lib/python3.10/dist-packages (3.0.3)\n",
            "Requirement already satisfied: datasets in /usr/local/lib/python3.10/dist-packages (2.16.1)\n",
            "Requirement already satisfied: filelock in /usr/local/lib/python3.10/dist-packages (from transformers) (3.13.1)\n",
            "Requirement already satisfied: huggingface-hub<1.0,>=0.16.4 in /usr/local/lib/python3.10/dist-packages (from transformers) (0.20.2)\n",
            "Requirement already satisfied: numpy>=1.17 in /usr/local/lib/python3.10/dist-packages (from transformers) (1.23.5)\n",
            "Requirement already satisfied: packaging>=20.0 in /usr/local/lib/python3.10/dist-packages (from transformers) (23.2)\n",
            "Requirement already satisfied: pyyaml>=5.1 in /usr/local/lib/python3.10/dist-packages (from transformers) (6.0.1)\n",
            "Requirement already satisfied: regex!=2019.12.17 in /usr/local/lib/python3.10/dist-packages (from transformers) (2023.6.3)\n",
            "Requirement already satisfied: requests in /usr/local/lib/python3.10/dist-packages (from transformers) (2.31.0)\n",
            "Requirement already satisfied: tokenizers<0.19,>=0.14 in /usr/local/lib/python3.10/dist-packages (from transformers) (0.15.0)\n",
            "Requirement already satisfied: safetensors>=0.3.1 in /usr/local/lib/python3.10/dist-packages (from transformers) (0.4.1)\n",
            "Requirement already satisfied: tqdm>=4.27 in /usr/local/lib/python3.10/dist-packages (from transformers) (4.66.1)\n",
            "Requirement already satisfied: torch==2.1.0 in /usr/local/lib/python3.10/dist-packages (from torchaudio) (2.1.0+cu121)\n",
            "Requirement already satisfied: typing-extensions in /usr/local/lib/python3.10/dist-packages (from torch==2.1.0->torchaudio) (4.5.0)\n",
            "Requirement already satisfied: sympy in /usr/local/lib/python3.10/dist-packages (from torch==2.1.0->torchaudio) (1.12)\n",
            "Requirement already satisfied: networkx in /usr/local/lib/python3.10/dist-packages (from torch==2.1.0->torchaudio) (3.2.1)\n",
            "Requirement already satisfied: jinja2 in /usr/local/lib/python3.10/dist-packages (from torch==2.1.0->torchaudio) (3.1.2)\n",
            "Requirement already satisfied: fsspec in /usr/local/lib/python3.10/dist-packages (from torch==2.1.0->torchaudio) (2023.6.0)\n",
            "Requirement already satisfied: triton==2.1.0 in /usr/local/lib/python3.10/dist-packages (from torch==2.1.0->torchaudio) (2.1.0)\n",
            "Requirement already satisfied: click<9.0.0,>=8.1.3 in /usr/local/lib/python3.10/dist-packages (from jiwer) (8.1.7)\n",
            "Requirement already satisfied: rapidfuzz<4,>=3 in /usr/local/lib/python3.10/dist-packages (from jiwer) (3.6.1)\n",
            "Requirement already satisfied: pyarrow>=8.0.0 in /usr/local/lib/python3.10/dist-packages (from datasets) (10.0.1)\n",
            "Requirement already satisfied: pyarrow-hotfix in /usr/local/lib/python3.10/dist-packages (from datasets) (0.6)\n",
            "Requirement already satisfied: dill<0.3.8,>=0.3.0 in /usr/local/lib/python3.10/dist-packages (from datasets) (0.3.7)\n",
            "Requirement already satisfied: pandas in /usr/local/lib/python3.10/dist-packages (from datasets) (1.5.3)\n",
            "Requirement already satisfied: xxhash in /usr/local/lib/python3.10/dist-packages (from datasets) (3.4.1)\n",
            "Requirement already satisfied: multiprocess in /usr/local/lib/python3.10/dist-packages (from datasets) (0.70.15)\n",
            "Requirement already satisfied: aiohttp in /usr/local/lib/python3.10/dist-packages (from datasets) (3.9.1)\n",
            "Requirement already satisfied: attrs>=17.3.0 in /usr/local/lib/python3.10/dist-packages (from aiohttp->datasets) (23.2.0)\n",
            "Requirement already satisfied: multidict<7.0,>=4.5 in /usr/local/lib/python3.10/dist-packages (from aiohttp->datasets) (6.0.4)\n",
            "Requirement already satisfied: yarl<2.0,>=1.0 in /usr/local/lib/python3.10/dist-packages (from aiohttp->datasets) (1.9.4)\n",
            "Requirement already satisfied: frozenlist>=1.1.1 in /usr/local/lib/python3.10/dist-packages (from aiohttp->datasets) (1.4.1)\n",
            "Requirement already satisfied: aiosignal>=1.1.2 in /usr/local/lib/python3.10/dist-packages (from aiohttp->datasets) (1.3.1)\n",
            "Requirement already satisfied: async-timeout<5.0,>=4.0 in /usr/local/lib/python3.10/dist-packages (from aiohttp->datasets) (4.0.3)\n",
            "Requirement already satisfied: charset-normalizer<4,>=2 in /usr/local/lib/python3.10/dist-packages (from requests->transformers) (3.3.2)\n",
            "Requirement already satisfied: idna<4,>=2.5 in /usr/local/lib/python3.10/dist-packages (from requests->transformers) (3.6)\n",
            "Requirement already satisfied: urllib3<3,>=1.21.1 in /usr/local/lib/python3.10/dist-packages (from requests->transformers) (2.0.7)\n",
            "Requirement already satisfied: certifi>=2017.4.17 in /usr/local/lib/python3.10/dist-packages (from requests->transformers) (2023.11.17)\n",
            "Requirement already satisfied: python-dateutil>=2.8.1 in /usr/local/lib/python3.10/dist-packages (from pandas->datasets) (2.8.2)\n",
            "Requirement already satisfied: pytz>=2020.1 in /usr/local/lib/python3.10/dist-packages (from pandas->datasets) (2023.3.post1)\n",
            "Requirement already satisfied: six>=1.5 in /usr/local/lib/python3.10/dist-packages (from python-dateutil>=2.8.1->pandas->datasets) (1.16.0)\n",
            "Requirement already satisfied: MarkupSafe>=2.0 in /usr/local/lib/python3.10/dist-packages (from jinja2->torch==2.1.0->torchaudio) (2.1.3)\n",
            "Requirement already satisfied: mpmath>=0.19 in /usr/local/lib/python3.10/dist-packages (from sympy->torch==2.1.0->torchaudio) (1.3.0)\n"
          ]
        }
      ]
    },
    {
      "cell_type": "markdown",
      "source": [
        "### Connect to Google Drive"
      ],
      "metadata": {
        "id": "gdwAbZ8IAvvW"
      }
    },
    {
      "cell_type": "code",
      "source": [
        "from google.colab import drive\n",
        "drive.mount('/content/drive')"
      ],
      "metadata": {
        "colab": {
          "base_uri": "https://localhost:8080/"
        },
        "id": "xyxxk4_eSW2Y",
        "outputId": "1f7216c8-3f20-4faa-a31d-a037493c5089"
      },
      "execution_count": null,
      "outputs": [
        {
          "output_type": "stream",
          "name": "stdout",
          "text": [
            "Drive already mounted at /content/drive; to attempt to forcibly remount, call drive.mount(\"/content/drive\", force_remount=True).\n"
          ]
        }
      ]
    },
    {
      "cell_type": "markdown",
      "source": [
        "### Define function to load ASR model"
      ],
      "metadata": {
        "id": "pdB2OGQ4Aydq"
      }
    },
    {
      "cell_type": "code",
      "source": [
        "def load_model_asr(model_key, device):\n",
        "\n",
        "    processor = Wav2Vec2Processor.from_pretrained(model_key)\n",
        "\n",
        "    model = Wav2Vec2ForCTC.from_pretrained(model_key)\n",
        "    model = model.to(device).eval()\n",
        "\n",
        "    return model, processor"
      ],
      "metadata": {
        "id": "mWHGsgUTzER4"
      },
      "execution_count": null,
      "outputs": []
    },
    {
      "cell_type": "markdown",
      "source": [
        "### Define function to read the audio file"
      ],
      "metadata": {
        "id": "SkDZi0wEA3gM"
      }
    },
    {
      "cell_type": "code",
      "source": [
        "def read_audio_colab(file_path):\n",
        "    audio_input, sampling_rate = sf.read(file_path)\n",
        "    assert sampling_rate == 16_000, \"Must use sampling rate 16,000 Hz [1]\"\n",
        "    return audio_input\n",
        "\n",
        "def read_audio_drive(name_file: str, name_folder: str):\n",
        "    full_path = '/content/drive/MyDrive/' + name_folder + '/' + name_file\n",
        "    try:\n",
        "        audio_input, sampling_rate = sf.read(full_path)\n",
        "        assert sampling_rate == 16_000, \"Must use sampling rate 16,000 Hz [1]\"\n",
        "        return audio_input\n",
        "    except FileNotFoundError:\n",
        "        print(f\"The file {full_path} is not found in Google Drive.\")\n",
        "        return None"
      ],
      "metadata": {
        "id": "mLSm5sPsI3hS"
      },
      "execution_count": null,
      "outputs": []
    },
    {
      "cell_type": "markdown",
      "source": [
        "### Define function to perform inference"
      ],
      "metadata": {
        "id": "OdW0Kl6JA75r"
      }
    },
    {
      "cell_type": "code",
      "source": [
        "def transcribe_inference(audio_input, model, processor, device):\n",
        "    inputs = processor(audio_input, sampling_rate=16_000, return_tensors=\"pt\", padding=True)\n",
        "\n",
        "    with torch.no_grad():\n",
        "        logits = model(inputs.input_values.to(device), attention_mask=inputs.attention_mask.to(device)).logits\n",
        "\n",
        "    pred_ids = torch.argmax(logits, dim=-1)\n",
        "    transcription = processor.batch_decode(pred_ids)\n",
        "    return transcription[0]"
      ],
      "metadata": {
        "id": "h-OF1lPQz4oi"
      },
      "execution_count": null,
      "outputs": []
    },
    {
      "cell_type": "markdown",
      "source": [
        "### Load the Models used for benchmarking"
      ],
      "metadata": {
        "id": "nmXIYH_3BJhg"
      }
    },
    {
      "cell_type": "code",
      "source": [
        "model_id_ori = \"bartelds/nasal-gpu6-cp0_adp0_48m_5e-5_cp-13000\"\n",
        "model_id_aug = \"bartelds/nasal-gpu6-cp0_adp0_96m-silver_96-orig_5e-4_cp-13000\"\n",
        "device = torch.device(\"cuda\" if torch.cuda.is_available() else \"cpu\")\n",
        "\n",
        "model_ori, processor_ori = load_model_asr(model_id_ori, device)\n",
        "model_aug, processor_aug = load_model_asr(model_id_aug, device)"
      ],
      "metadata": {
        "colab": {
          "base_uri": "https://localhost:8080/"
        },
        "id": "ru9RIVMs0hCs",
        "outputId": "7fc43f66-cd28-4fc0-9e28-5f86f90950f2"
      },
      "execution_count": null,
      "outputs": [
        {
          "output_type": "stream",
          "name": "stderr",
          "text": [
            "/usr/local/lib/python3.10/dist-packages/huggingface_hub/utils/_token.py:88: UserWarning: \n",
            "The secret `HF_TOKEN` does not exist in your Colab secrets.\n",
            "To authenticate with the Hugging Face Hub, create a token in your settings tab (https://huggingface.co/settings/tokens), set it as secret in your Google Colab and restart your session.\n",
            "You will be able to reuse this secret in all of your notebooks.\n",
            "Please note that authentication is recommended but still optional to access public models or datasets.\n",
            "  warnings.warn(\n",
            "Some weights of the model checkpoint at bartelds/nasal-gpu6-cp0_adp0_48m_5e-5_cp-13000 were not used when initializing Wav2Vec2ForCTC: ['wav2vec2.encoder.pos_conv_embed.conv.weight_v', 'wav2vec2.encoder.pos_conv_embed.conv.weight_g']\n",
            "- This IS expected if you are initializing Wav2Vec2ForCTC from the checkpoint of a model trained on another task or with another architecture (e.g. initializing a BertForSequenceClassification model from a BertForPreTraining model).\n",
            "- This IS NOT expected if you are initializing Wav2Vec2ForCTC from the checkpoint of a model that you expect to be exactly identical (initializing a BertForSequenceClassification model from a BertForSequenceClassification model).\n",
            "Some weights of Wav2Vec2ForCTC were not initialized from the model checkpoint at bartelds/nasal-gpu6-cp0_adp0_48m_5e-5_cp-13000 and are newly initialized: ['wav2vec2.encoder.pos_conv_embed.conv.parametrizations.weight.original1', 'wav2vec2.encoder.pos_conv_embed.conv.parametrizations.weight.original0']\n",
            "You should probably TRAIN this model on a down-stream task to be able to use it for predictions and inference.\n",
            "Some weights of the model checkpoint at bartelds/nasal-gpu6-cp0_adp0_96m-silver_96-orig_5e-4_cp-13000 were not used when initializing Wav2Vec2ForCTC: ['wav2vec2.encoder.pos_conv_embed.conv.weight_v', 'wav2vec2.encoder.pos_conv_embed.conv.weight_g']\n",
            "- This IS expected if you are initializing Wav2Vec2ForCTC from the checkpoint of a model trained on another task or with another architecture (e.g. initializing a BertForSequenceClassification model from a BertForPreTraining model).\n",
            "- This IS NOT expected if you are initializing Wav2Vec2ForCTC from the checkpoint of a model that you expect to be exactly identical (initializing a BertForSequenceClassification model from a BertForSequenceClassification model).\n",
            "Some weights of Wav2Vec2ForCTC were not initialized from the model checkpoint at bartelds/nasal-gpu6-cp0_adp0_96m-silver_96-orig_5e-4_cp-13000 and are newly initialized: ['wav2vec2.encoder.pos_conv_embed.conv.parametrizations.weight.original1', 'wav2vec2.encoder.pos_conv_embed.conv.parametrizations.weight.original0']\n",
            "You should probably TRAIN this model on a down-stream task to be able to use it for predictions and inference.\n"
          ]
        }
      ]
    },
    {
      "cell_type": "markdown",
      "source": [
        "### Inference results"
      ],
      "metadata": {
        "id": "wiguPWXcBRhp"
      }
    },
    {
      "cell_type": "code",
      "source": [
        "drive_file = \"\"\n",
        "folder_drive = \"\"\n",
        "file_path = \"/content/BJM02-001-01_S1-A_00h21m56.526.wav\"\n",
        "\n",
        "# Check and process the audio input (from colab or drive)\n",
        "if file_path != \"\":\n",
        "    audio_input = read_audio_colab(file_path)\n",
        "elif drive_file != \"\":\n",
        "    audio_input = read_audio_drive(drive_file, folder_drive)\n",
        "else:\n",
        "    audio_input = None\n",
        "    print(\"Warning: Please input a correct path for the audio input.\")\n",
        "\n",
        "# Generate transcription result if audio input is available\n",
        "if audio_input is not None:\n",
        "    transcription_ori = transcribe_inference(audio_input, model_ori, processor_ori, device)\n",
        "    transcription_aug = transcribe_inference(audio_input, model_aug, processor_aug, device)\n",
        "    print(f\"Transcribed text generated by Proposed Model without data augmentation: \", transcription_ori)\n",
        "    print(f\"Transcribed text generated by Proposed Model with data augmentation: \",transcription_aug)\n",
        "else:\n",
        "    print(\"No audio data for transcription. Please check the path of your audio input again!\")"
      ],
      "metadata": {
        "colab": {
          "base_uri": "https://localhost:8080/"
        },
        "id": "2Jny2zT5P60R",
        "outputId": "dc045c32-fa06-428f-c0a0-cdcdbb058213"
      },
      "execution_count": null,
      "outputs": [
        {
          "output_type": "stream",
          "name": "stdout",
          "text": [
            "Transcribed text generated by Proposed Model without data augmentation:  mayatyo gawuh masinyo di bahun kan\n",
            "Transcribed text generated by Proposed Model with data augmentation:  mayatnyo gawuh masih di bahun kan\n"
          ]
        }
      ]
    },
    {
      "cell_type": "markdown",
      "source": [
        "## **Performance of Low-Resource ASR for Nasal Language [1]**\n",
        "\n",
        "submitted by Ravialdy Hidayat.\n",
        "\n",
        "Paper Reference: [1] Bartelds et al., \"Making More of Little Data: Improving Low-Resource Automatic Speech Recognition Using Data Augmentation\" in Proceedings of the 61st Annual Meeting of the Association for Computational Linguistics (ACL), July 2023"
      ],
      "metadata": {
        "id": "hZTyPZCh9fBe"
      }
    },
    {
      "cell_type": "markdown",
      "source": [
        "### Define the metrics"
      ],
      "metadata": {
        "id": "T9OCOUu1SvzG"
      }
    },
    {
      "cell_type": "markdown",
      "source": [
        "I define two evaluation metrics to analyze the performance of ASR models used in this simulation. The first one is Word Error Rate (WER) and the second one is Character Error Rate (CER). Both of them have similar formula as follows :\n",
        "\n",
        "$$ \\frac{S + D + I}{N} $$\n",
        "\n",
        "\\begin{align*}\n",
        "\\text{Notations:} \\quad & \\\\\n",
        "S & \\text{: Number of substitutions.} \\\\\n",
        "D & \\text{: Number of deletions.} \\\\\n",
        "I & \\text{: Number of insertions.} \\\\\n",
        "N & \\text{: Number of words (WER) or characters (CER) in the reference.} \\\\\n",
        "\\end{align*}"
      ],
      "metadata": {
        "id": "QJS18MnsSyPU"
      }
    },
    {
      "cell_type": "markdown",
      "source": [
        "### Define the test dataset"
      ],
      "metadata": {
        "id": "F3iE7lMAVbVu"
      }
    },
    {
      "cell_type": "markdown",
      "source": [
        "For the best of my knowledge, the only dataset available online for low-resource Nasal language is the one provided by [1]. Thus, I decided to use the test dataset from that paper."
      ],
      "metadata": {
        "id": "oOfJL-oUVeXR"
      }
    },
    {
      "cell_type": "markdown",
      "source": [
        "### Load the test dataset"
      ],
      "metadata": {
        "id": "Ee6-h_dpIvy0"
      }
    },
    {
      "cell_type": "code",
      "source": [
        "import pandas as pd\n",
        "from datasets import Dataset\n",
        "\n",
        "testset_path = \"/content/drive/MyDrive/nasal language/test.tsv\"\n",
        "test_ds = pd.read_csv(testset_path, sep='\\t')\n",
        "name_folder = 'nasal language'\n",
        "\n",
        "test_ds['audio'] = [read_audio_drive(path, name_folder) for path in test_ds['path'].tolist()]\n",
        "test_ds = Dataset.from_pandas(test_ds[['audio', 'text']])"
      ],
      "metadata": {
        "id": "SXhhKggM7_UE"
      },
      "execution_count": null,
      "outputs": []
    },
    {
      "cell_type": "markdown",
      "source": [
        "### Define function to test entire dataset"
      ],
      "metadata": {
        "id": "m22XXaoqI6N0"
      }
    },
    {
      "cell_type": "code",
      "source": [
        "def test_dataset(dataset, model, processor, device, batch_size):\n",
        "    total_time = 0\n",
        "\n",
        "    def evaluate_batch(batch):\n",
        "        nonlocal total_time\n",
        "        start_time = time.time()\n",
        "        dict_batch = {}\n",
        "        inputs = processor(batch[\"audio\"], sampling_rate=16_000, return_tensors=\"pt\", padding=True)\n",
        "\n",
        "        with torch.no_grad():\n",
        "            logits = model(inputs.input_values.to(device), attention_mask=inputs.attention_mask.to(device)).logits\n",
        "        pred_ids = torch.argmax(logits, dim=-1)\n",
        "        transcriptions = processor.batch_decode(pred_ids)\n",
        "        batch_time = time.time() - start_time\n",
        "        total_time += batch_time\n",
        "\n",
        "        dict_batch[\"batch_texts\"] = batch[\"text\"]\n",
        "        dict_batch[\"out_transcript\"] = transcriptions\n",
        "\n",
        "        return dict_batch\n",
        "\n",
        "    results = dataset.map(evaluate_batch, batched=True, batch_size=batch_size)\n",
        "    wer_score = round(jiwer.wer(results[\"batch_texts\"], results[\"out_transcript\"]), 2)\n",
        "    cer_score = round(jiwer.cer(results[\"batch_texts\"], results[\"out_transcript\"]), 2)\n",
        "\n",
        "    return {\n",
        "        \"wer\": wer_score,\n",
        "        \"cer\": cer_score,\n",
        "        \"total_time\": total_time\n",
        "    }"
      ],
      "metadata": {
        "id": "6UIadFzMFfgy"
      },
      "execution_count": null,
      "outputs": []
    },
    {
      "cell_type": "markdown",
      "source": [
        "### Perform evaluation for both ASR models"
      ],
      "metadata": {
        "id": "hxxP9r_2NP1o"
      }
    },
    {
      "cell_type": "code",
      "source": [
        "evaluation_results_ori = test_dataset(test_ds, model_ori, processor_ori, device, batch_size=8)\n",
        "evaluation_results_aug = test_dataset(test_ds, model_aug, processor_aug, device, batch_size=8)\n",
        "\n",
        "print(\"Evaluation results for the proposed model without augmented data:\")\n",
        "print(f\"WER: {evaluation_results_ori['wer']}, CER: {evaluation_results_ori['cer']}, Total Time: {evaluation_results_ori['total_time']} seconds\")\n",
        "\n",
        "print(\"\\nEvaluation results for the proposed model with augmented data:\")\n",
        "print(f\"WER: {evaluation_results_aug['wer']}, CER: {evaluation_results_aug['cer']}, Total Time: {evaluation_results_aug['total_time']} seconds\")"
      ],
      "metadata": {
        "colab": {
          "base_uri": "https://localhost:8080/",
          "height": 168,
          "referenced_widgets": [
            "7b93014100444d0899ed7ccec9426cf1",
            "9c78523ba3bc41748b511c2065fe7bc5",
            "385768d955294f5489157bd123bbd385",
            "9421fe2589b2489a8e496ca47f790455",
            "5c3dcfe608534d9697ebc666d3508da3",
            "a1b0236287e344e0934826df708ed04c",
            "915aba8f0e204b60ad8e55dd87115561",
            "a9597627cbee413fa65fa184ccf62dbc",
            "45f68d6d36d4473d95a97d5dcd3114b5",
            "092fd3578703488a8bf4f4f21ee90c04",
            "82e87f79977f4ee1b1598d779643d697",
            "bf111e2b2e2b45cd858bea47175b04ff",
            "8af60b973fa14e2b81f4865666dce3ed",
            "8aa61d64aea64ce1850bb2debe4d2214",
            "28fb26be79fe4af29a4332e9cc55f354",
            "d74a86785e25478c8fd7f00561ef7e44",
            "64f89b50d1d54f95a93b6d6d9678d03f",
            "781e96199ad94a4d8ce239149473c825",
            "718b5d1288b9435282d50344189f77ab",
            "884b585551354b19bb7b8e35f2cc83a7",
            "1db3340b5d6045f980e01754ddd7c767",
            "9426040c920842809d7ff41c612eaf64"
          ]
        },
        "id": "ylV_1amHJ2GU",
        "outputId": "586f9625-c4ad-481e-a728-d3b63f091230"
      },
      "execution_count": null,
      "outputs": [
        {
          "output_type": "display_data",
          "data": {
            "text/plain": [
              "Map:   0%|          | 0/767 [00:00<?, ? examples/s]"
            ],
            "application/vnd.jupyter.widget-view+json": {
              "version_major": 2,
              "version_minor": 0,
              "model_id": "7b93014100444d0899ed7ccec9426cf1"
            }
          },
          "metadata": {}
        },
        {
          "output_type": "display_data",
          "data": {
            "text/plain": [
              "Map:   0%|          | 0/767 [00:00<?, ? examples/s]"
            ],
            "application/vnd.jupyter.widget-view+json": {
              "version_major": 2,
              "version_minor": 0,
              "model_id": "bf111e2b2e2b45cd858bea47175b04ff"
            }
          },
          "metadata": {}
        },
        {
          "output_type": "stream",
          "name": "stdout",
          "text": [
            "Evaluation results for the proposed model without augmented data:\n",
            "WER: 0.51, CER: 0.18, Total Time: 35.203206062316895 seconds\n",
            "\n",
            "Evaluation results for the proposed model with augmented data:\n",
            "WER: 0.44, CER: 0.15, Total Time: 33.507813453674316 seconds\n"
          ]
        }
      ]
    },
    {
      "cell_type": "markdown",
      "source": [
        "### Results Analysis"
      ],
      "metadata": {
        "id": "VtnnO5wjQFZu"
      }
    },
    {
      "cell_type": "markdown",
      "source": [
        "As you can see from the evaluation done before, the model with augmentation data performs better than the one without it for both Word Error Rate (WER) and Character Error Rate (CER) metrics. This means that data augmentation with self-training method as proposed in [1] does indeed perform better than without data augmentation at all."
      ],
      "metadata": {
        "id": "EdADDWG-QMsA"
      }
    }
  ]
}